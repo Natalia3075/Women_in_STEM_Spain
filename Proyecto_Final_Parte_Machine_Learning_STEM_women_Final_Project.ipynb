{
  "nbformat": 4,
  "nbformat_minor": 0,
  "metadata": {
    "colab": {
      "provenance": []
    },
    "kernelspec": {
      "name": "python3",
      "display_name": "Python 3"
    },
    "language_info": {
      "name": "python"
    }
  },
  "cells": [
    {
      "cell_type": "markdown",
      "source": [
        "#Proyecto Final - Parte Machine Learning - STEM women\n",
        "\n",
        "Este proyecto busca desarrollar un sistema de recomendación de iniciativas STEM personalizadas según el tipo de actividad, el formato y la edad del usuario, así como un modelo de predicción."
      ],
      "metadata": {
        "id": "bm-wL7dxS4v-"
      }
    },
    {
      "cell_type": "code",
      "execution_count": null,
      "metadata": {
        "id": "J3iQTlhL_PYL"
      },
      "outputs": [],
      "source": [
        "import numpy as np\n",
        "import pandas as pd\n",
        "from scipy import stats\n",
        "import matplotlib.pyplot as plt\n",
        "import seaborn as sns\n",
        "from sklearn.model_selection import train_test_split\n",
        "from sklearn.ensemble import RandomForestClassifier\n",
        "import xgboost as xgb\n",
        "import lightgbm as lgb\n",
        "import tensorflow as tf\n",
        "from sklearn.preprocessing import StandardScaler\n",
        "from sklearn.metrics import accuracy_score, classification_report\n",
        "from imblearn.over_sampling import SMOTE\n"
      ]
    },
    {
      "cell_type": "code",
      "source": [
        "df_iniciativas = pd.read_excel('/content/df_2019_2024_limpio.xlsx')\n"
      ],
      "metadata": {
        "id": "qhoa5EnG_9Zu"
      },
      "execution_count": null,
      "outputs": []
    },
    {
      "cell_type": "code",
      "source": [
        "df_iniciativas.columns = df_iniciativas.columns.str.strip().str.lower()"
      ],
      "metadata": {
        "id": "IXNyvECNAFEJ"
      },
      "execution_count": null,
      "outputs": []
    },
    {
      "cell_type": "code",
      "source": [
        "df_iniciativas.columns.tolist()"
      ],
      "metadata": {
        "id": "5ai-h3FtEblW"
      },
      "execution_count": null,
      "outputs": []
    },
    {
      "cell_type": "markdown",
      "source": [
        "# SELECCIÓN E INGENIERÍA DE CARACTERÍSTICAS"
      ],
      "metadata": {
        "id": "cP5aWwQdNHwX"
      }
    },
    {
      "cell_type": "code",
      "source": [
        "# Selecionar colunas numéricas para análise\n",
        "df_num = df_iniciativas.select_dtypes(include=['int64', 'float64'])\n",
        "\n",
        "# Verificar se há valores faltantes\n",
        "print(df_num.isnull().sum())\n",
        "\n",
        "# Visualizar correlação com Total_impactos\n",
        "import seaborn as sns\n",
        "import matplotlib.pyplot as plt\n",
        "\n",
        "plt.figure(figsize=(10, 8))\n",
        "sns.heatmap(df_num.corr()[['total_impactos']].sort_values(by='total_impactos', ascending=False), annot=True, cmap='viridis')\n",
        "plt.title(\"Correlación com Total_impactos\")\n",
        "plt.show()"
      ],
      "metadata": {
        "id": "inARxhv5AXw-"
      },
      "execution_count": null,
      "outputs": []
    },
    {
      "cell_type": "code",
      "source": [
        "# Seleccionar columnas numéricas para el análisis\n",
        "df_num = df_iniciativas.select_dtypes(include=['int64', 'float64'])\n",
        "\n",
        "# Generar la matriz de correlación\n",
        "matriz_correlacion = df_num.corr()\n",
        "\n",
        "# Mostrar la matriz de correlación\n",
        "print(matriz_correlacion)"
      ],
      "metadata": {
        "id": "36zluktsAgUL"
      },
      "execution_count": null,
      "outputs": []
    },
    {
      "cell_type": "markdown",
      "source": [
        "✅** Importante: Este resultado no se generará por motivos de protección de datos.**"
      ],
      "metadata": {
        "id": "WrRfllWXUHdP"
      }
    },
    {
      "cell_type": "markdown",
      "source": [
        "📊 Correlation Analysis\n",
        "\n",
        "We generated a heatmap to visualize the correlation between numerical variables and total_impactos.\n",
        "\n",
        "    The variables with the highest positive correlation with total impact were:\n",
        "\n",
        "        13_14_años → 0.74\n",
        "\n",
        "        Total_Impactos_Carrera → 0.72\n",
        "\n",
        "        inicio_GradoFP → 0.68\n",
        "\n",
        "    Variables with low correlation included:\n",
        "\n",
        "        evento, blog, recursos, and some specific regions.\n",
        "\n",
        "🧠 Conclusions\n",
        "\n",
        "    Age group and career stage are strongly related to the success of the initiatives (higher impact).\n",
        "\n",
        "    Variables like type of content (events, blogs) and location have less direct influence.\n",
        "\n",
        "    These findings help guide the personalization of future recommendations."
      ],
      "metadata": {
        "id": "yOBWnZSFO8N7"
      }
    },
    {
      "cell_type": "code",
      "source": [
        "from sklearn.ensemble import RandomForestRegressor\n",
        "\n",
        "X = df_iniciativas.select_dtypes(include=['int64', 'float64']).drop(columns=['total_impactos'])\n",
        "y = df_iniciativas['total_impactos']\n",
        "\n",
        "model = RandomForestRegressor()\n",
        "model.fit(X, y)\n",
        "\n",
        "importancia = pd.Series(model.feature_importances_, index=X.columns).sort_values(ascending=False)\n",
        "print(importancia.head(10))"
      ],
      "metadata": {
        "id": "rWhG9iDXAkjo"
      },
      "execution_count": null,
      "outputs": []
    },
    {
      "cell_type": "markdown",
      "source": [
        " Modelo de Random Forest\n",
        "\n",
        "    Entrenamos un modelo de RandomForestRegressor para identificar la importancia real de las variables en la predicción del impacto.\n",
        "\n",
        "    Algunas variables con baja correlación, como formación, mentoría y evento, mostraron alta importancia para el modelo.\n",
        "\n",
        "    Esto se debe a que el modelo considera interacciones no lineales entre variables."
      ],
      "metadata": {
        "id": "JveCY_A0PIRp"
      }
    },
    {
      "cell_type": "markdown",
      "source": [
        " ## Recomendador Personalizado por Perfil:\n",
        "\n",
        " Este algoritmo recomenda iniciativas com base no perfil do usuário, aplicando filtros e medindo a similaridade com iniciativas existentes.\n",
        "🧾 Entradas do Perfil\n",
        "\n",
        "    edad: Faixa etária ou etapa da carreira (ex: final_GradoMaster)\n",
        "\n",
        "    formato: Preferência de formato (Presencial, Online, Híbrida)\n",
        "\n",
        "    actividad_preferida: Tipo de atividade desejada (ex: formacion, mentoría)\n",
        "\n",
        "⚙️ Processo da Recomendação\n",
        "\n",
        "    Padronização de colunas\n",
        "\n",
        "        Corrige nomes e formata strings para minúsculas.\n",
        "\n",
        "    Mapeamento de importância\n",
        "\n",
        "        Converte categorias (como formacion, evento) em valores numéricos via mapeo_importancia.\n",
        "\n",
        "    Filtros aplicados:\n",
        "\n",
        "        🔹 Idade/etapa: Filtra iniciativas compatíveis com a faixa etária informada.\n",
        "\n",
        "        🔹 Formato: Mantém apenas as iniciativas no formato preferido.\n",
        "\n",
        "        🔹 Atividade preferida: Exige um nível mínimo de importância (≥ 2) para a atividade desejada.\n",
        "\n",
        "    Criação de vetores de atividade\n",
        "\n",
        "        Gera vetores para iniciativas e para o usuário.\n",
        "\n",
        "    Normalização (MinMaxScaler)\n",
        "\n",
        "        Normaliza os dados para que fiquem no mesmo intervalo (0 a 1).\n",
        "\n",
        "    Cálculo de similaridade (Cosine Similarity)\n",
        "\n",
        "        Compara o vetor do usuário com os vetores das iniciativas.\n",
        "\n",
        "        Retorna as iniciativas mais semelhantes.\n",
        "\n"
      ],
      "metadata": {
        "id": "a0Sv1kxSApgY"
      }
    },
    {
      "cell_type": "code",
      "source": [
        "from sklearn.preprocessing import MinMaxScaler\n",
        "from sklearn.metrics.pairwise import cosine_similarity\n",
        "\n",
        "# ======== CONFIGURACIONES ========\n",
        "actividad_preferida = [\n",
        "    'formacion', 'evento', 'mentoring', 'blog', 'rrss',\n",
        "    'bolsa_trabajo', 'networking', 'recursos', 'emprendimiento'\n",
        "]\n",
        "\n",
        "mapeo_importancia = {\n",
        "    'no se realiza': 0,\n",
        "    'poco importante': 1,\n",
        "    'algo importante': 2,\n",
        "    'importante': 3,\n",
        "    'muy importante': 4\n",
        "}\n",
        "\n",
        "columnas_edad = [\n",
        "    '1_5_años', '6_9_años', '10_12_años', '13_14_años', '15_16_años',\n",
        "    'bachillerato', 'inicio_gradofp', 'final_gradomaster',\n",
        "    'etapa_junior', 'etapa_consolidacion', 'etapa_madurez'\n",
        "]\n",
        "\n",
        "formatos_validos = ['online', 'presencial', 'híbrida']\n",
        "\n",
        "# ======== FUNCIÓN PRINCIPAL ========\n",
        "def recomendar_por_perfil(perfil, df, actividades, top_n=5):\n",
        "    df = df.copy()\n",
        "    df.columns = df.columns.str.strip().str.lower()  # normaliza nombres de columnas\n",
        "\n",
        "    # Mapeo de valores de importancia a números\n",
        "    for col in actividades:\n",
        "        if col in df.columns:\n",
        "            df[col] = df[col].fillna('no se realiza').astype(str).str.strip().str.lower().map(mapeo_importancia).fillna(0)\n",
        "\n",
        "    col_edad = perfil['edad'].strip().lower()\n",
        "    formato_usuario = perfil['formato'].strip().lower()\n",
        "    act = perfil['actividad_preferida'].strip().lower()\n",
        "\n",
        "    # Filtro por edad\n",
        "    if col_edad in columnas_edad and col_edad in df.columns:\n",
        "        filtro = df[df[col_edad] > 0].copy()\n",
        "    else:\n",
        "        filtro = df.copy()\n",
        "    print(\"➡️ Total después del filtro por edad:\", filtro.shape[0])\n",
        "\n",
        "    # Filtro por formato\n",
        "    if formato_usuario in formatos_validos and formato_usuario in df.columns:\n",
        "        filtro = filtro[filtro[formato_usuario] == 1].copy()\n",
        "    print(\"➡️ Total después del filtro por formato:\", filtro.shape[0])\n",
        "\n",
        "    # Filtro por actividad preferida (nivel mínimo = 2)\n",
        "    if act in actividades:\n",
        "        filtro = filtro[filtro[act] >= 2].copy()\n",
        "    print(\"➡️ Total después del filtro por actividad preferida:\", filtro.shape[0])\n",
        "\n",
        "    if filtro.empty:\n",
        "        print(\"⚠️ No se encontraron iniciativas después de aplicar los filtros.\")\n",
        "        return pd.DataFrame()\n",
        "\n",
        "    # Vectores de iniciativas (actividades)\n",
        "    sub = filtro[actividades].copy()\n",
        "\n",
        "    # Normalización con MinMaxScaler\n",
        "    scaler = MinMaxScaler()\n",
        "    sub_norm = scaler.fit_transform(sub)\n",
        "\n",
        "    # Vector del usuario\n",
        "    vector = [0] * len(actividades)\n",
        "    if act in actividades:\n",
        "        vector[actividades.index(act)] = 3\n",
        "\n",
        "    # Normalización del vector del usuario\n",
        "    vector_norm = scaler.transform([vector])\n",
        "\n",
        "    # Cálculo de similitud\n",
        "    similitudes = cosine_similarity(vector_norm, sub_norm)[0]\n",
        "    filtro = filtro.copy()\n",
        "    filtro['similitud'] = similitudes\n",
        "\n",
        "    return filtro.sort_values(by='similitud', ascending=False).head(top_n)[\n",
        "        ['nombre_iniciativa', 'formato_simplificado', 'similitud']\n",
        "    ]\n",
        "\n",
        "# ======== EJEMPLO DE USO ========\n",
        "# Suponiendo que df_iniciativas ya ha sido cargado (ej. con pd.read_csv)\n",
        "# y contiene columnas como 'formacion', 'evento', etc.\n",
        "\n",
        "perfil_usuario = {\n",
        "    'edad': 'final_GradoMaster',\n",
        "    'formato': 'Presencial',\n",
        "    'actividad_preferida': 'formacion'\n",
        "}\n",
        "\n",
        "resultados = recomendar_por_perfil(perfil_usuario, df_iniciativas, actividad_preferida)\n",
        "\n",
        "if not resultados.empty:\n",
        "    print(resultados)\n",
        "else:\n",
        "    print(\"No se encontraron iniciativas para este perfil.\")"
      ],
      "metadata": {
        "id": "JyMkSpB3T6IF"
      },
      "execution_count": null,
      "outputs": []
    },
    {
      "cell_type": "markdown",
      "source": [
        "✅** Importante: Este resultado no se generará por motivos de protección de datos.**"
      ],
      "metadata": {
        "id": "FMEKQwLsQJVE"
      }
    },
    {
      "cell_type": "markdown",
      "source": [
        "## Evaluación del Modelo"
      ],
      "metadata": {
        "id": "T1MySYuSQbAd"
      }
    },
    {
      "cell_type": "code",
      "source": [
        "from sklearn.metrics import precision_score, recall_score\n",
        "\n",
        "# Simular um usuário fictício\n",
        "perfil_usuario_ficticio = {\n",
        "    'edad': 'final_GradoMaster',   # Faixa etária preferida\n",
        "    'formato': 'presencial',       # Formato preferido\n",
        "    'actividad_preferida': 'formacion'  # Atividade preferida\n",
        "}\n",
        "\n",
        "# Gerar as recomendações para esse usuário fictício\n",
        "recomendaciones = recomendar_por_perfil(perfil_usuario_ficticio, df_iniciativas, actividad_preferida)\n",
        "\n",
        "# Agora simular a relevância de cada recomendação\n",
        "relevancia_predita = []\n",
        "y_true = []\n",
        "\n",
        "# Simular manualmente se a recomendação seria relevante\n",
        "for _, row in recomendaciones.iterrows():\n",
        "    # Verificar apenas atividade e formato (não precisa da idade para relevância)\n",
        "    atividade_relevante = perfil_usuario_ficticio['actividad_preferida'].lower() in row['nombre_iniciativa'].lower()\n",
        "    formato_relevante = perfil_usuario_ficticio['formato'].lower() in row['formato_simplificado'].lower()\n",
        "\n",
        "    # Relevante se a atividade e formato coincidirem\n",
        "    is_relevant = 1 if (atividade_relevante and formato_relevante) else 0\n",
        "    relevancia_predita.append(is_relevant)\n",
        "    y_true.append(is_relevant)  # Para simular, marcamos como relevante quando é relevante\n",
        "\n",
        "# Calcular Precision e Recall\n",
        "precision = precision_score(y_true, relevancia_predita, zero_division=0)\n",
        "recall = recall_score(y_true, relevancia_predita, zero_division=0)\n",
        "\n",
        "# Exibir resultados\n",
        "print(f\"Precision: {precision}\")\n",
        "print(f\"Recall: {recall}\")\n"
      ],
      "metadata": {
        "id": "tpmsqXC0EHjb"
      },
      "execution_count": null,
      "outputs": []
    },
    {
      "cell_type": "markdown",
      "source": [
        "**Posibles causas del bajo rendimiento del modelo:**\n",
        "\n",
        "No hay datos reales de usuarios (ground truth).\n",
        "\n",
        "y_true y relevancia_predita fueron definidos con las mismas reglas del modelo → genera circularidad\n",
        "\n",
        "\n",
        "**Resultado: **\n",
        "Métricas como Precision = 0.0, Recall = 0.0 no reflejan la calidad real del sistema.\n",
        "\n",
        "\n",
        "**Evaluación inválida porque:**\n",
        "El modelo no está siendo probado contra elecciones reales.\n",
        "Solo confirma lo que él mismo ya filtró.\n",
        "Las métricas supervisadas solo tienen sentido con retroalimentación del usuario.\n"
      ],
      "metadata": {
        "id": "CycxIVxhQqJT"
      }
    },
    {
      "cell_type": "markdown",
      "source": [
        "##**Otra alternativa de métricas de evaluación**"
      ],
      "metadata": {
        "id": "VdV-wSlpQ3Yf"
      }
    },
    {
      "cell_type": "code",
      "source": [
        "# ======== EVALUACIÓN ========\n",
        "def evaluacion_modelo(df, recomendaciones, perfil_usuario, actividades):\n",
        "    recomendados = recomendaciones['nombre_iniciativa'].values.tolist()\n",
        "\n",
        "    # Simulación de ground truth: iniciativas con alto valor para la actividad preferida\n",
        "    act = perfil_usuario['actividad_preferida'].strip().lower()\n",
        "    actividades_col = [a.lower() for a in actividades]\n",
        "\n",
        "    if act not in actividades_col:\n",
        "        print(f\"⚠️ La actividad '{act}' no está entre las actividades válidas.\")\n",
        "        return 0, 0, 0\n",
        "\n",
        "    reales = df[df[act] >= 3]['nombre_iniciativa'].values.tolist()\n",
        "    acertadas = len(set(recomendados).intersection(reales))\n",
        "    precision = acertadas / len(recomendados) if recomendados else 0\n",
        "\n",
        "    # Simulación de RMSE\n",
        "    vector_perfil = [0] * len(actividades_col)\n",
        "    vector_perfil[actividades_col.index(act)] = 3\n",
        "\n",
        "    df_activ = df[actividades_col].fillna(0)\n",
        "    similitudes = cosine_similarity([vector_perfil], df_activ.values)[0]\n",
        "    predicciones = similitudes[:len(recomendados)]\n",
        "    rmse = np.sqrt(mean_squared_error([3]*len(predicciones), predicciones)) if predicciones.any() else 0\n",
        "\n",
        "    # Simulación de tasa de engagement\n",
        "    engagement_simulado = np.random.rand(len(recomendados))\n",
        "    tasa_engagement = np.mean(engagement_simulado)\n",
        "\n",
        "    print(f\"➡️ Precisión simulada: {precision:.2f}\")\n",
        "    print(f\"➡️ RMSE simulado: {rmse:.2f}\")\n",
        "    print(f\"➡️ Engagement simulado: {tasa_engagement:.2f}\")\n",
        "\n",
        "    return precision, rmse, tasa_engagement\n",
        "\n",
        "# ======== EJEMPLO DE USO ========\n",
        "# Asegúrate de que tu DataFrame esté cargado (por ejemplo: df_iniciativas = pd.read_csv(\"...\"))\n",
        "# Y que los nombres de columnas coincidan con los esperados.\n",
        "\n",
        "perfil_usuario = {\n",
        "    'edad': 'final_GradoMaster',\n",
        "    'formato': 'Presencial',\n",
        "    'actividad_preferida': 'formacion'  # elige una columna que exista\n",
        "}\n",
        "\n",
        "# Ejecutar\n",
        "try:\n",
        "    recomendaciones = recomendar_por_perfil(perfil_usuario, df_iniciativas, actividad_preferida)\n",
        "    if not recomendaciones.empty:\n",
        "        print(recomendaciones)\n",
        "        evaluacion_modelo(df_iniciativas, recomendaciones, perfil_usuario, actividad_preferida)\n",
        "    else:\n",
        "        print(\"⚠️ No se encontraron recomendaciones.\")\n",
        "except Exception as e:\n",
        "    print(\"Error:\", e)\n",
        "    print(\"Columnas disponibles en el dataset:\")\n",
        "    print(df_iniciativas.columns.tolist())"
      ],
      "metadata": {
        "id": "EXwzXaHGRMRU"
      },
      "execution_count": null,
      "outputs": []
    },
    {
      "cell_type": "markdown",
      "source": [
        " ✅ \"Importante: Este resultado no se generará por motivos de protección de datos.\""
      ],
      "metadata": {
        "id": "z7pbnSpmVila"
      }
    },
    {
      "cell_type": "markdown",
      "source": [
        "\n",
        "Dado que no tenemos datos reales de usuario, utilizamos una evaluación simulada:\n",
        "Precisión simulada: Compara las recomendaciones con las iniciativas relevantes según el perfil del usuario.\n",
        "\n",
        "RMSE simulado: Mide la diferencia entre las preferencias del usuario y las recomendaciones.\n",
        "\n",
        "Engagement simulado: Genera valores aleatorios para simular la tasa de interacción.\n",
        "\n",
        "Evaluación Cualitativa:\n",
        "Verifica manualmente si las recomendaciones tienen sentido.\n",
        "Pide la evaluación de expertos.\n",
        "\n",
        "Limitaciones:\n",
        "Las métricas no reflejan interacciones reales, solo aproximaciones del modelo.\n",
        "Próximos pasos: Evaluar con datos reales para usar métricas como Precision@N, Recall@N y NDCG."
      ],
      "metadata": {
        "id": "0B50RYtzVo8Q"
      }
    },
    {
      "cell_type": "markdown",
      "source": [
        "# Modelo de Predición\n",
        "\n",
        "Algoritmo\n",
        "Regresión Lineal (LinearRegression de scikit-learn)\n",
        "Relación lineal entre impacto de iniciativas y matrículas\n",
        "\n",
        "Objetivo: Predicción de Matrículas a partir del Impacto de las Iniciativas\n",
        "Unión de DataFrames:\n",
        "Combinamos df_iniciativas (impacto de iniciativas) con df_matriculadas (matrículas en bachillerato) usando la columna año.\n",
        "Modelo de Predicción:\n",
        "Utilizamos regresión lineal para predecir las matrículas en los próximos 5 años basándonos en el impacto de las iniciativas pasadas.\n",
        "Resultados:\n",
        "Predicción de matrículas para los próximos años y visualización en un gráfico.\n",
        "La matriz de correlación mostró la relación entre el impacto de las iniciativas y las matrículas en bachillerato."
      ],
      "metadata": {
        "id": "xUtJR7xYSYJM"
      }
    },
    {
      "cell_type": "code",
      "source": [
        "df_matriculadas = pd.read_excel('/content/Mujeres matriculadas em Ciências y Tecnologia -Grado_Ciclo_Bachillerato - 2011-2024 Ciencias(1).xlsx')\n",
        "df_matriculadas"
      ],
      "metadata": {
        "id": "VHg5abgGSZ0B"
      },
      "execution_count": null,
      "outputs": []
    },
    {
      "cell_type": "code",
      "source": [
        "df_matriculadas.columns = df_matriculadas.columns.str.strip()  # Remove espaços e quebras de linha no início/fim"
      ],
      "metadata": {
        "id": "A3Kiz4AmSfqD"
      },
      "execution_count": null,
      "outputs": []
    },
    {
      "cell_type": "code",
      "source": [
        "df_matriculadas.columns = df_matriculadas.columns.str.replace(r'\\s+', ' ', regex=True).str.strip()"
      ],
      "metadata": {
        "id": "D_BYjO45SgI6"
      },
      "execution_count": null,
      "outputs": []
    },
    {
      "cell_type": "code",
      "source": [
        "df_matriculadas"
      ],
      "metadata": {
        "id": "oUyj0oWdSiit"
      },
      "execution_count": null,
      "outputs": []
    },
    {
      "cell_type": "code",
      "source": [
        "# 1. Renombrar columnas para asegurar compatibilidad\n",
        "df_matriculadas.rename(columns={'Año': 'año', 'Bachillerato': 'matriculas_bachillerato'}, inplace=True)\n",
        "df_iniciativas.rename(columns={'Año': 'año', 'total_impactos': 'impacto_iniciativas'}, inplace=True)\n",
        "\n",
        "# 2. Realizar el merge (unión) de los dos DataFrames por el año\n",
        "df_combinado = pd.merge(df_iniciativas, df_matriculadas, on='año', how='inner')\n",
        "\n",
        "\n",
        "\n",
        "# 3. Eliminar filas con valores NaN en las columnas de interés\n",
        "variables = ['impacto_iniciativas', 'matriculas_bachillerato', 'Grado y Ciclo']\n",
        "df_combinado = df_combinado.dropna(subset=variables)\n",
        "\n",
        "# 4. Calcular y mostrar la matriz de correlación como un heatmap\n",
        "import seaborn as sns\n",
        "import matplotlib.pyplot as plt\n",
        "\n",
        "matriz_correlacion = df_combinado[variables].corr()\n",
        "\n",
        "plt.figure(figsize=(8, 6))\n",
        "sns.heatmap(matriz_correlacion, annot=True, cmap='coolwarm', fmt='.2f', vmin=-1, vmax=1)\n",
        "plt.title(\"Matriz de Correlación de las Variables Seleccionadas\")\n",
        "plt.show()\n"
      ],
      "metadata": {
        "id": "Hy2syPL4Yvfj"
      },
      "execution_count": null,
      "outputs": []
    },
    {
      "cell_type": "markdown",
      "source": [
        "**Qué muestra el resultado?**\n",
        "\n",
        "impacto_iniciativas y matriculas_bachillerato tienen una correlación muy alta (0.88), lo que indica que cuando aumenta una, la otra también tiende a aumentar.\n",
        "matriculas_bachillerato y Grado y Ciclo también tienen una correlación positiva considerable (0.67).\n",
        "impacto_iniciativas y Grado y Ciclo tienen una correlación positiva moderada (0.49).\n",
        "Esto sugiere que existe una relación importante entre el impacto de las iniciativas y el número de matrículas, y que también hay relación con el grado/ciclo educativo."
      ],
      "metadata": {
        "id": "hjQq44J3ZGYi"
      }
    },
    {
      "cell_type": "markdown",
      "source": [
        "**Evaluación del Modelo**"
      ],
      "metadata": {
        "id": "Rwe0SD8CZeQu"
      }
    },
    {
      "cell_type": "code",
      "source": [
        "import pandas as pd\n",
        "import numpy as np\n",
        "import matplotlib.pyplot as plt\n",
        "from sklearn.linear_model import LinearRegression\n",
        "\n",
        "# Suponha que os DataFrames df_matriculadas e df_iniciativas já foram carregados e renomeados\n",
        "# Como você já fez:\n",
        "# df_matriculadas.rename(columns={'Año': 'año', 'Bachillerato': 'matriculas_bachillerato'}, inplace=True)\n",
        "# df_iniciativas.rename(columns={'Año': 'año', 'total_impactos': 'impacto_iniciativas'}, inplace=True)\n",
        "\n",
        "# 1. Merge\n",
        "df_combinado = pd.merge(df_iniciativas, df_matriculadas, on='año', how='inner')\n",
        "\n",
        "# 2. Eliminar NaNs\n",
        "variables = ['impacto_iniciativas', 'matriculas_bachillerato', 'Grado y Ciclo']\n",
        "df_combinado = df_combinado.dropna(subset=variables)\n",
        "\n",
        "# 3. Treinar modelo de regressão linear\n",
        "X = df_combinado[['impacto_iniciativas']]\n",
        "y = df_combinado['matriculas_bachillerato']\n",
        "\n",
        "modelo = LinearRegression()\n",
        "modelo.fit(X, y)\n",
        "\n",
        "# 4. Prever matrículas para os próximos 5 anos\n",
        "ultimo_ano = df_combinado['año'].max()\n",
        "anos_futuros = [ultimo_ano + i for i in range(1, 6)]\n",
        "\n",
        "# Simular crescimento dos impactos futuros (ex: crescimento linear)\n",
        "ultimo_impacto = df_combinado['impacto_iniciativas'].iloc[-1]\n",
        "incremento = 3000  # Ajuste conforme necessário\n",
        "impactos_futuros = np.array([[ultimo_impacto + incremento * i] for i in range(1, 6)])\n",
        "\n",
        "prediccion_matriculas = modelo.predict(impactos_futuros)\n",
        "\n",
        "# 5. Plotar tudo\n",
        "plt.figure(figsize=(10, 6))\n",
        "\n",
        "# Matrículas históricas\n",
        "plt.plot(df_combinado['año'], df_combinado['matriculas_bachillerato'], marker='o', label='Matrículas Históricas')\n",
        "\n",
        "# Impacto das iniciativas (no mesmo eixo para visualização, mas são escalas diferentes!)\n",
        "plt.plot(df_combinado['año'], df_combinado['impacto_iniciativas'], marker='x', label='Impacto de las Iniciativas', color='orange')\n",
        "\n",
        "# Predição de matrículas\n",
        "plt.plot(anos_futuros, prediccion_matriculas, linestyle='--', marker='s', color='green', label='Predicción Matrículas')\n",
        "\n",
        "# Personalização\n",
        "plt.xlabel(\"Año\")\n",
        "plt.ylabel(\"Número de Matrículas\")\n",
        "plt.title(\"Predicción de Matrículas en Áreas Científicas Basada en el Impacto de las Iniciativas\")\n",
        "plt.legend()\n",
        "plt.grid(True)\n",
        "plt.tight_layout()\n",
        "plt.show()"
      ],
      "metadata": {
        "id": "A_63OoMPegoc"
      },
      "execution_count": null,
      "outputs": []
    },
    {
      "cell_type": "markdown",
      "source": [
        "¿Qué muestra el gráfico?\n",
        "Matrículas históricas: crecimiento leve y estable hasta 2022.\n",
        "Impacto de iniciativas: gran variabilidad, fuerte aumento en 2023.\n",
        "Predicción 2024–2028: matrículas se mantienen constantes (~153.398).\n",
        "Interpretación\n",
        "El modelo predice estabilidad, sin reflejar el aumento del impacto.\n",
        "Indica que el modelo es conservador o insensible a cambios recientes.\n",
        "Podría haber factores no incluidos que influyen más que el impacto.\n",
        " Limitaciones del análisis\n",
        "Falta de datos previos a las iniciativas.\n",
        "Escasez de datos desagregados por género (mujeres).\n",
        "Esto limita la evaluación real del impacto de las iniciativas."
      ],
      "metadata": {
        "id": "tS32tF4iSRED"
      }
    },
    {
      "cell_type": "markdown",
      "source": [
        "#Evaluación del Modelo\n",
        "\n",
        "R² (Coeficiente de Determinación)\n",
        "Valor entre 0 e 1 (quanto mais perto de 1, melhor).\n",
        "Mede a proporção da variância explicada pelo modelo.\n",
        " Ideal para ver o ajuste geral.\n",
        "MAE (Error Absoluto Medio)\n",
        "Média das diferenças absolutas entre previsões e valores reais.\n",
        "Fácil de interpretar (mesma unidade que a variável prevista).\n",
        "MSE (Error Cuadrático Medio)\n",
        "Erros elevados são penalizados mais fortemente.\n",
        "Sensível a outliers.\n",
        "RMSE (Raíz del MSE)\n",
        "Interpretação mais intuitiva do MSE (mesma unidade das matrículas)."
      ],
      "metadata": {
        "id": "rbhcWotgRzP8"
      }
    },
    {
      "cell_type": "code",
      "source": [
        "from sklearn.metrics import r2_score, mean_absolute_error, mean_squared_error\n",
        "import numpy as np\n",
        "\n",
        "y_pred = modelo.predict(X)\n",
        "print(\"R²:\", r2_score(y, y_pred))\n",
        "print(\"MAE:\", mean_absolute_error(y, y_pred))\n",
        "print(\"RMSE:\", np.sqrt(mean_squared_error(y, y_pred)))"
      ],
      "metadata": {
        "id": "3FD0cQTaUMTX"
      },
      "execution_count": null,
      "outputs": []
    },
    {
      "cell_type": "markdown",
      "source": [
        "AFINACIÓN DE HIPERPARÁMETROS\n",
        "\n",
        "Técnica utilizada: GridSearchCV\n",
        "Validación cruzada: LeaveOneOut (ideal para pocos datos)\n",
        "\n",
        "Modelo afinado: Ridge (Regresión con regularización)\n",
        "Hiperparámetro ajustado: alpha\n",
        "Valores probados: 0.01, 0.1, 1, 10, 100\n",
        "Mejor resultado: alpha = 0.01"
      ],
      "metadata": {
        "id": "ArhZV1-JR-E-"
      }
    },
    {
      "cell_type": "code",
      "source": [
        "from sklearn.model_selection import GridSearchCV\n",
        "from sklearn.linear_model import Ridge\n",
        "\n",
        "param_grid = {'alpha': [0.01, 0.1, 1, 10, 100]}\n",
        "grid = GridSearchCV(Ridge(), param_grid, cv=5, scoring='r2')\n",
        "grid.fit(X, y)\n",
        "\n",
        "print(\"Melhor parâmetro:\", grid.best_params_)\n",
        "print(\"Melhor R²:\", grid.best_score_)"
      ],
      "metadata": {
        "id": "zNE8xd0SejoT"
      },
      "execution_count": null,
      "outputs": []
    },
    {
      "cell_type": "markdown",
      "source": [
        "Afinação de hiperparametros do modelo de predicion"
      ],
      "metadata": {
        "id": "oRPG4cHrheFd"
      }
    },
    {
      "cell_type": "code",
      "source": [
        "from sklearn.linear_model import Ridge\n",
        "from sklearn.model_selection import GridSearchCV, LeaveOneOut\n",
        "from sklearn.metrics import r2_score, mean_absolute_error, mean_squared_error\n",
        "import numpy as np\n",
        "\n",
        "# Defina seus dados (X e y já devem estar prontos)\n",
        "# Exemplo: X = df_combinado[['impacto_iniciativas']], y = df_combinado['matriculas_bachillerato']\n",
        "\n",
        "# Configuração do Leave-One-Out\n",
        "loo = LeaveOneOut()\n",
        "\n",
        "# Grade de hiperparâmetros para testar\n",
        "param_grid = {'alpha': [0.01, 0.1, 1, 10, 100]}\n",
        "\n",
        "# Criação do GridSearch com validação Leave-One-Out\n",
        "grid = GridSearchCV(Ridge(), param_grid, cv=loo, scoring='r2')\n",
        "grid.fit(X, y)\n",
        "\n",
        "# Melhor modelo encontrado\n",
        "mejor_modelo = grid.best_estimator_\n",
        "\n",
        "# Avaliação do modelo final (previsão no mesmo conjunto — ou você pode usar divisão treino/teste)\n",
        "y_pred = mejor_modelo.predict(X)\n",
        "\n",
        "# Métricas\n",
        "r2 = r2_score(y, y_pred)\n",
        "mae = mean_absolute_error(y, y_pred)\n",
        "rmse = np.sqrt(mean_squared_error(y, y_pred))\n",
        "\n",
        "# Resultados\n",
        "print(\"Mejor parámetro (alpha):\", grid.best_params_)\n",
        "print(f\"R²: {r2:.4f}\")\n",
        "print(f\"MAE: {mae:.2f}\")\n",
        "print(f\"RMSE: {rmse:.2f}\")"
      ],
      "metadata": {
        "id": "VsABlyAee4oL"
      },
      "execution_count": null,
      "outputs": []
    },
    {
      "cell_type": "markdown",
      "source": [
        "5. CONCLUSIONES"
      ],
      "metadata": {
        "id": "vClvZcZUShuI"
      }
    },
    {
      "cell_type": "markdown",
      "source": [
        "El modelo de predicción muestra estabilidad en las matrículas para 2024–2028, sin reflejar el reciente aumento por impacto de iniciativas, lo que indica un enfoque conservador y posibles limitaciones por falta de datos históricos y desagregados.\n",
        "\n",
        "El modelo de recomendación, evaluado de forma simulada ante la ausencia de datos reales de usuario, ofrece resultados prometedores, aunque las métricas actuales solo aproximan el rendimiento real.\n",
        "\n",
        "Ambos modelos enfrentan desafíos por la escasez y calidad de los datos, lo que limita la evaluación precisa del impacto y la personalización.\n",
        "\n",
        "Como próximos pasos, es clave incorporar datos más completos y reales para validar y mejorar la capacidad predictiva y la relevancia de las recomendaciones, utilizando métricas especializadas como Precision@N, Recall@N y NDCG.\n",
        "\n",
        "Somos conscientes de las carencias que tiene la base de datos: principalmente, la alta disparidad en los valores de impacto entre iniciativas, muchas con bajo alcance y unas pocas con impactos muy elevados pero que distorsionan la media. Por ello, como mejora futura que ya se está trabajando, se plantea la creación de un indicador de impacto ponderado, que tenga en cuenta factores como la duración de la iniciativa, la frecuencia con la que se repite y el tipo de actividad. Esto permitiría obtener una visión más justa y representativa del impacto real. Sin embargo, resulta muy complejo, ya que cada iniciativa suele englobar múltiples actividades con características distintas, dificultando una respuesta clara sobre duración y repetición."
      ],
      "metadata": {
        "id": "l7Fa9RLTSlfv"
      }
    }
  ]
}